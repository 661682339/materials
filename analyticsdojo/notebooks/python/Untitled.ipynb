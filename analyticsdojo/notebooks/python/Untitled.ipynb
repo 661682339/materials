{
 "cells": [
  {
   "cell_type": "code",
   "execution_count": null,
   "metadata": {
    "collapsed": true
   },
   "outputs": [],
   "source": [
    "#Loading a file that "
   ]
  },
  {
   "cell_type": "code",
   "execution_count": 3,
   "metadata": {
    "collapsed": false
   },
   "outputs": [
    {
     "name": "stdout",
     "output_type": "stream",
     "text": [
      "Collecting python-dotenv\n",
      "  Downloading python_dotenv-0.5.1-py2.py3-none-any.whl\n",
      "Collecting click>=5.0 (from python-dotenv)\n",
      "  Downloading click-6.6.tar.gz (283kB)\n",
      "\u001b[K    100% |████████████████████████████████| 286kB 983kB/s \n",
      "\u001b[?25hCollecting ordereddict (from python-dotenv)\n",
      "  Downloading ordereddict-1.1.tar.gz\n",
      "Building wheels for collected packages: click, ordereddict\n",
      "  Running setup.py bdist_wheel for click ... \u001b[?25l-\b \b\\\b \bdone\n",
      "\u001b[?25h  Stored in directory: /home/jovyan/.cache/pip/wheels/b0/6d/8c/cf5ca1146e48bc7914748bfb1dbf3a40a440b8b4f4f0d952dd\n",
      "  Running setup.py bdist_wheel for ordereddict ... \u001b[?25l-\b \b\\\b \bdone\n",
      "\u001b[?25h  Stored in directory: /home/jovyan/.cache/pip/wheels/cf/2c/b5/a1bfd8848f7861c1588f1a2dfe88c11cf3ab5073ab7af08bc9\n",
      "Successfully built click ordereddict\n",
      "Installing collected packages: click, ordereddict, python-dotenv\n",
      "Successfully installed click-6.6 ordereddict-1.1 python-dotenv-0.5.1\n"
     ]
    }
   ],
   "source": [
    "!pip install python-dotenv"
   ]
  },
  {
   "cell_type": "code",
   "execution_count": 11,
   "metadata": {
    "collapsed": false
   },
   "outputs": [],
   "source": [
    "import os\n",
    "from dotenv import load_dotenv\n",
    "dotenv_path = '/home/jovyan/work/sample.env'\n",
    "if(load_dotenv(dotenv_path)):\n",
    "    print('Loaded file')\n"
   ]
  },
  {
   "cell_type": "code",
   "execution_count": 14,
   "metadata": {
    "collapsed": false
   },
   "outputs": [
    {
     "name": "stdout",
     "output_type": "stream",
     "text": [
      "Loaded file\n"
     ]
    }
   ],
   "source": [
    "dotenv_path = '/home/jovyan/work/sandbox.env'\n",
    "if(load_dotenv(dotenv_path)):\n",
    "    print('Loaded file')"
   ]
  },
  {
   "cell_type": "code",
   "execution_count": 15,
   "metadata": {
    "collapsed": false
   },
   "outputs": [
    {
     "data": {
      "text/plain": [
       "'1'"
      ]
     },
     "execution_count": 15,
     "metadata": {},
     "output_type": "execute_result"
    }
   ],
   "source": [
    "test = os.environ.get(\"test\")\n",
    "test"
   ]
  },
  {
   "cell_type": "code",
   "execution_count": null,
   "metadata": {
    "collapsed": true
   },
   "outputs": [],
   "source": []
  }
 ],
 "metadata": {
  "kernelspec": {
   "display_name": "Python 3",
   "language": "python",
   "name": "python3"
  },
  "language_info": {
   "codemirror_mode": {
    "name": "ipython",
    "version": 3
   },
   "file_extension": ".py",
   "mimetype": "text/x-python",
   "name": "python",
   "nbconvert_exporter": "python",
   "pygments_lexer": "ipython3",
   "version": "3.5.2"
  }
 },
 "nbformat": 4,
 "nbformat_minor": 0
}
