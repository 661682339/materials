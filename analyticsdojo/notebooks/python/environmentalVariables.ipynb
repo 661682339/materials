{
 "cells": [
  {
   "cell_type": "markdown",
   "metadata": {},
   "source": [
    "![AnalyticsDojo](https://s3.amazonaws.com/analyticsdojo/logo/final-logo.png)\n",
    "<center><h1>Python - Environmental Variables</h1></center>\n"
   ]
  },
  {
   "cell_type": "markdown",
   "metadata": {},
   "source": [
    "Enviromental variables are a great way to store variables that you don't want to commit to a notebook.  This could be passwords or other things that are specific to the context.  For example, you may want to run two different settings with a *sandbox* vs a *production* version.  \n",
    "\n",
    "One way to set environment variables is through a .env file.  This file and the associated code in this notebook allows you to load the configuration from the file into the operating system.  \n",
    "\n",
    "### Sample .env file\n",
    "```\n",
    "usernameDev='username'\n",
    "passwordDev='password'\n",
    "tokenDev='token'\n",
    "```\n",
    "\n",
    "Environmental variables are persistent at reboot but if you move to a new machine they would have to be set.  Environmental variables are also only available at the OS level, meaning that you need to import them when working with python. "
   ]
  },
  {
   "cell_type": "markdown",
   "metadata": {},
   "source": [
    "## Setting Environmental Variables on Windows\n",
    "\n",
    "This is an alternative to set environmental variables on Windows:\n",
    "\n",
    "```\n",
    "SETX usernameDev 'username'\n",
    "SETX passwordDev 'password'\n",
    "SETX tokenDev 'token'\n",
    "```\n"
   ]
  },
  {
   "cell_type": "code",
   "execution_count": 8,
   "metadata": {
    "collapsed": false
   },
   "outputs": [
    {
     "name": "stdout",
     "output_type": "stream",
     "text": [
      "Loaded file\n"
     ]
    }
   ],
   "source": [
    "#This is the path to the Docker Machine \n",
    "dotenv_path = '/home/jovyan/work/notebooks/python/sample.env'\n",
    "#This loads the variables in the file and sets them as \n",
    "import os\n",
    "from dotenv import load_dotenv\n",
    "if(load_dotenv(dotenv_path)):\n",
    "    print('Loaded file')\n"
   ]
  },
  {
   "cell_type": "code",
   "execution_count": 11,
   "metadata": {
    "collapsed": false
   },
   "outputs": [
    {
     "data": {
      "text/plain": [
       "'username'"
      ]
     },
     "execution_count": 11,
     "metadata": {},
     "output_type": "execute_result"
    }
   ],
   "source": [
    "#This imports the environment variable into a Python object that can be accessed.\n",
    "import os \n",
    "username=os.getenv('usernameDev') \n",
    "password=os.getenv('passwordDev') \n",
    "token=os.getenv('tokenDev') \n",
    "username"
   ]
  },
  {
   "cell_type": "markdown",
   "metadata": {},
   "source": [
    "Copyright AnalyticsDojo 2016. "
   ]
  }
 ],
 "metadata": {
  "kernelspec": {
   "display_name": "Python 3",
   "language": "python",
   "name": "python3"
  },
  "language_info": {
   "codemirror_mode": {
    "name": "ipython",
    "version": 3
   },
   "file_extension": ".py",
   "mimetype": "text/x-python",
   "name": "python",
   "nbconvert_exporter": "python",
   "pygments_lexer": "ipython3",
   "version": "3.5.2"
  }
 },
 "nbformat": 4,
 "nbformat_minor": 0
}
