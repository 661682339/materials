{
 "cells": [
  {
   "cell_type": "markdown",
   "metadata": {
    "slideshow": {
     "slide_type": "subslide"
    }
   },
   "source": [
    "![AnalyticsDojo](https://s3.amazonaws.com/analyticsdojo/logo/final-logo.png)\n",
    "<center><h1>Introduction to Python - Numpy</h1></center>\n"
   ]
  },
  {
   "cell_type": "markdown",
   "metadata": {
    "collapsed": false,
    "slideshow": {
     "slide_type": "subslide"
    }
   },
   "source": [
    "# Overview\n",
    "(Common to R and Python)\n",
    "- Variables\n",
    "- Opearations on Numeric and String Variables\n",
    "- Lists\n"
   ]
  },
  {
   "cell_type": "markdown",
   "metadata": {
    "slideshow": {
     "slide_type": "subslide"
    }
   },
   "source": [
    "## Overview of Numpy\n",
    "\n",
    "- Numpy is a package that provides additional functionality often useful working with arrays for data science. \n",
    "- Typically Numpy is imported as `np`.\n",
    "- `np.array()` will cast a list (or other collection) as a numpy array.\n",
    "- You can slice an array in the same way yo can slice a list.\n"
   ]
  },
  {
   "cell_type": "code",
   "execution_count": 53,
   "metadata": {
    "collapsed": false
   },
   "outputs": [
    {
     "name": "stdout",
     "output_type": "stream",
     "text": [
      "A is of type: <class 'numpy.ndarray'>\n",
      "Print the entire array: [0 1 2 3 4 5 6]\n",
      "Print the first value: 0\n",
      "Print the first three value: [0 1 2]\n",
      "Print from second value till end  of list: [2 3 4 5 6]\n",
      "Print the last value of a list: 6\n",
      "Print up till the 2nd to last value: [0 1 2 3 4]\n"
     ]
    }
   ],
   "source": [
    "import numpy as np\n",
    "a = np.array([0, 1, 2, 3, 4, 5, 6])\n",
    "print('A is of type:', type(a))\n",
    "print('Print the entire array:', a)\n",
    "print('Print the first value:', a[0])\n",
    "print('Print the first three value:', a[0:3])\n",
    "print('Print from second value till end  of list:', a[2:])\n",
    "print('Print the last value of a list:', a[-1])\n",
    "print('Print up till the 2nd to last value:', a[:-2]) \n"
   ]
  },
  {
   "cell_type": "markdown",
   "metadata": {},
   "source": [
    "## Arrays and Functions\n",
    "- A really powerful aspect of arrays is the capaiblity to do calculations over arrays.\n",
    "- Numpy has a number of functions possible listed [here](http://docs.scipy.org/doc/numpy/reference/routines.math.html).\n",
    "- Often it is possible to do calculations directly or via np functions, as shown below. "
   ]
  },
  {
   "cell_type": "code",
   "execution_count": 62,
   "metadata": {
    "collapsed": false
   },
   "outputs": [
    {
     "name": "stdout",
     "output_type": "stream",
     "text": [
      "Print the entire array: [1 2 3 4 5 6]\n",
      "Print the entire array: [10 20 30 40 50 60]\n",
      "Print the entire array: [11 22 33 44 55 66]\n",
      "Print the entire array: [11 22 33 44 55 66]\n",
      "Print the entire array: [ 0.          0.69314718  1.09861229  1.38629436  1.60943791  1.79175947]\n"
     ]
    }
   ],
   "source": [
    "\n",
    "a = np.array([1, 2, 3, 4, 5, 6])\n",
    "b1=10*a\n",
    "b2=np.multiply(10,a)\n",
    "c1=a+b\n",
    "c2=np.add(a,b) #This is an alternate way of \n",
    "e=np.log(a)\n",
    "f=np.sqrt(a)\n",
    "\n",
    "np.square([-1j, 1])\n",
    "print('Print the entire array:', a)\n",
    "print('Print the entire array:', b1)\n",
    "print('Print the entire array:', b1)\n",
    "print('Print the entire array:', c1)\n",
    "print('Print the entire array:', c2)\n",
    "print('Print the entire array:', d)\n",
    "print('Print the entire array:', e)"
   ]
  },
  {
   "cell_type": "markdown",
   "metadata": {},
   "source": [
    "## Understanding Numpy Arrays\n",
    "- The arrange function will generate an array. \n",
    "- Reshape changes the structure of the array to n rows and m columns.\n",
    "    `a=a.reshape(n, m)`"
   ]
  },
  {
   "cell_type": "code",
   "execution_count": 9,
   "metadata": {
    "collapsed": false
   },
   "outputs": [
    {
     "name": "stdout",
     "output_type": "stream",
     "text": [
      "[[ 0  1  2  3  4]\n",
      " [ 5  6  7  8  9]\n",
      " [10 11 12 13 14]]\n",
      "Dimensions (a.shape): (3, 5)\n",
      "Data type (a.dtype): int64\n",
      "Number of values 15\n"
     ]
    }
   ],
   "source": [
    "print(a)\n",
    "print('Dimensions (shape):', a.shape)\n",
    "print('Data type:', a.dtype)\n",
    "print('Number of values:', a.size)\n"
   ]
  },
  {
   "cell_type": "markdown",
   "metadata": {},
   "source": [
    "## Creating and Manipulating Numpy Arrays\n",
    "- The arrange function will generate an array. \n",
    "- Reshape changes the structure of the array to n rows and m columns.\n",
    "    `a=a.reshape(n, m)`\n",
    "-`ones` will create an array with all ones and `zeros` with all zeros.\n",
    "- Reshaping can get it in the appropriate structure, but make sure that the size fits the appropriate dimensions."
   ]
  },
  {
   "cell_type": "code",
   "execution_count": 22,
   "metadata": {
    "collapsed": false
   },
   "outputs": [
    {
     "name": "stdout",
     "output_type": "stream",
     "text": [
      "[ 0  1  2  3  4  5  6  7  8  9 10 11 12 13 14]\n",
      "[ 0  1  2  3  4  5  6  7  8  9 10 11 12 13 14]\n",
      "[[ 0  1  2  3  4]\n",
      " [ 5  6  7  8  9]\n",
      " [10 11 12 13 14]]\n",
      "[[ 1.  1.  1.  1.  1.]\n",
      " [ 1.  1.  1.  1.  1.]\n",
      " [ 1.  1.  1.  1.  1.]]\n",
      "[[ 0.  0.  0.  0.  0.]\n",
      " [ 0.  0.  0.  0.  0.]\n",
      " [ 0.  0.  0.  0.  0.]]\n",
      "[[ 0.   0.1  0.2  0.3  0.4]\n",
      " [ 0.5  0.6  0.7  0.8  0.9]\n",
      " [ 1.   1.1  1.2  1.3  1.4]]\n"
     ]
    }
   ],
   "source": [
    "import numpy as np\n",
    "a = np.arange(15) \n",
    "print(a)\n",
    "a2 = np.arange( 0, 15, 1 ) #Alternate specification with np.arrange(start, end, step)\n",
    "print(a2)\n",
    "a=a.reshape(3, 5)\n",
    "print(a)\n",
    "b= np.ones(shape=(3, 5))\n",
    "print(b)\n",
    "c= np.zeros(shape=(3, 5))\n",
    "print(c)\n",
    "d= np.arange( 0, 1.5, .1 ).reshape(3,5)  #String together creations and reshaping. Also can use decimals.\n",
    "print(d)"
   ]
  },
  {
   "cell_type": "markdown",
   "metadata": {},
   "source": [
    "## Generating Random Numpy Data\n",
    "- This is often useful, and we will be using it to demonstrate some initial techniques.\n",
    "- Often you want random but repeatable results, so that for example a test could have a consistent average on a random array. \n"
   ]
  },
  {
   "cell_type": "code",
   "execution_count": 32,
   "metadata": {
    "collapsed": false
   },
   "outputs": [
    {
     "name": "stdout",
     "output_type": "stream",
     "text": [
      "[  66.78140304  130.74921701  103.18829811  143.03492472   91.31023903\n",
      "  111.40492353  103.17420602   83.40205144   87.35576181   73.97467957]\n",
      "[ 0.53712852 -1.86108118  0.11482424  1.71656462  1.96799982 -0.29423722\n",
      " -0.40878041  0.3451047  -0.42442007 -0.2615073 ]\n"
     ]
    }
   ],
   "source": [
    "\n",
    "np.random.seed([2332])\n",
    "a = np.random.uniform(50, 150, 10)  #Between 50-10, generate 10 from uniform\n",
    "b = np.random.standard_normal(10)   #With mean 0 and standard deviation 1 \n",
    "print(a)\n",
    "print(b)\n",
    "\n"
   ]
  },
  {
   "cell_type": "markdown",
   "metadata": {},
   "source": [
    "## Slicing Numpy Arrays\n",
    "- Slicing arrays includes  three numbers `a[start:stop:step]` but not all are required.\n",
    "- Defaults: start =0, end =last and step is 1.\n"
   ]
  },
  {
   "cell_type": "code",
   "execution_count": 45,
   "metadata": {
    "collapsed": false
   },
   "outputs": [
    {
     "name": "stdout",
     "output_type": "stream",
     "text": [
      "[ 0  1  2  3  4  5  6  7  8  9 10 11 12 13 14]\n",
      "This is the start, end, and step: [2 5 8]\n",
      "Print every other: [ 0  2  4  6  8 10 12 14]\n",
      "Print every other: [2 3 4 5 6 7 8]\n"
     ]
    }
   ],
   "source": [
    "e= np.arange( 0, 15, 1 ) \n",
    "print(e)\n",
    "#[start:end:step]\n",
    "\n",
    "\n",
    "print(\"This is the start, end, and step:\",e[2:9:3]) \n",
    "print(\"Print every other:\",e[::2]) \n",
    "print(\"Print starting at 2 and ending at 9, default step 1:\",e[2:9]) \n"
   ]
  },
  {
   "cell_type": "markdown",
   "metadata": {
    "slideshow": {
     "slide_type": "subslide"
    }
   },
   "source": [
    "## CREDITS\n",
    "\n",
    "\n",
    "Copyright [AnalyticsDojo](http://www.analyticsdojo.com) 2016\n",
    "This work is licensed under the [Creative Commons Attribution 4.0 International](https://creativecommons.org/licenses/by/4.0/) license agreement.\n",
    "\n"
   ]
  },
  {
   "cell_type": "code",
   "execution_count": null,
   "metadata": {
    "collapsed": true
   },
   "outputs": [],
   "source": []
  }
 ],
 "metadata": {
  "celltoolbar": "Slideshow",
  "kernelspec": {
   "display_name": "Python 3",
   "language": "python",
   "name": "python3"
  },
  "language_info": {
   "codemirror_mode": {
    "name": "ipython",
    "version": 3
   },
   "file_extension": ".py",
   "mimetype": "text/x-python",
   "name": "python",
   "nbconvert_exporter": "python",
   "pygments_lexer": "ipython3",
   "version": "3.5.2"
  }
 },
 "nbformat": 4,
 "nbformat_minor": 0
}
